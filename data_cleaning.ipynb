{
 "cells": [
  {
   "cell_type": "code",
   "execution_count": 28,
   "id": "d3c7247a",
   "metadata": {},
   "outputs": [],
   "source": [
    "import pandas as pd\n",
    "import json"
   ]
  },
  {
   "cell_type": "code",
   "execution_count": 3,
   "id": "c85285e4",
   "metadata": {},
   "outputs": [],
   "source": [
    "df = pd.read_csv('all_seasons.csv', index_col = 0)"
   ]
  },
  {
   "cell_type": "markdown",
   "id": "bc4e3cf1",
   "metadata": {},
   "source": [
    "# Creating node-link data"
   ]
  },
  {
   "cell_type": "code",
   "execution_count": 17,
   "id": "7f92b5f1",
   "metadata": {},
   "outputs": [],
   "source": [
    "grouped = df.groupby(['player_name', 'team_abbreviation']).agg({'season': 'unique'}).reset_index()"
   ]
  },
  {
   "cell_type": "code",
   "execution_count": 18,
   "id": "661a88ef",
   "metadata": {},
   "outputs": [],
   "source": [
    "player_ids = {}\n",
    "\n",
    "\n",
    "nodes = []\n",
    "for i, player in enumerate(grouped['player_name'].unique()):\n",
    "    nodes.append({\n",
    "        'id': i+1,\n",
    "        'name': player\n",
    "    })\n",
    "    player_ids[player] = i+1\n"
   ]
  },
  {
   "cell_type": "code",
   "execution_count": 29,
   "id": "4de1d738",
   "metadata": {},
   "outputs": [],
   "source": [
    "player_team_seasons = {}\n",
    "for _, row in grouped.iterrows():\n",
    "    player = row['player_name']\n",
    "    team = row['team_abbreviation']\n",
    "    seasons = row['season']\n",
    "    player_team_seasons[(player, team)] = seasons\n",
    "\n",
    "\n",
    "links = []\n",
    "\n",
    "#for each player, team, season combo\n",
    "for (player1, team1), seasons1 in player_team_seasons.items():\n",
    "    for (player2, team2), seasons2 in player_team_seasons.items():\n",
    "        if player1 != player2 and team1 == team2:\n",
    "            common_seasons = set(seasons1).intersection(seasons2)\n",
    "            if len(common_seasons) > 0:\n",
    "                links.append({\n",
    "                    'source': player_ids[player1],\n",
    "                    'target': player_ids[player2],\n",
    "                    'value': len(common_seasons)\n",
    "                })\n",
    "\n",
    "\n",
    "json_data = {\n",
    "    'nodes': nodes,\n",
    "    'links': links\n",
    "}\n",
    "\n",
    "with open('player_connections.json', 'w') as json_file:\n",
    "    json.dump(json_data, json_file)"
   ]
  },
  {
   "cell_type": "code",
   "execution_count": null,
   "id": "8b6af99e",
   "metadata": {},
   "outputs": [],
   "source": []
  }
 ],
 "metadata": {
  "interpreter": {
   "hash": "676492bdfdc0d5783bc593a59c001a5280aac978c662f27e54444cd9821e3ac8"
  },
  "kernelspec": {
   "display_name": "Python 3 (ipykernel)",
   "language": "python",
   "name": "python3"
  },
  "language_info": {
   "codemirror_mode": {
    "name": "ipython",
    "version": 3
   },
   "file_extension": ".py",
   "mimetype": "text/x-python",
   "name": "python",
   "nbconvert_exporter": "python",
   "pygments_lexer": "ipython3",
   "version": "3.10.9"
  }
 },
 "nbformat": 4,
 "nbformat_minor": 5
}
